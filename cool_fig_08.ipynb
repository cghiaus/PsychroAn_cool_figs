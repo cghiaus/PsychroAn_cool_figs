{
 "cells": [
  {
   "cell_type": "markdown",
   "id": "fb80259a-1bb9-401e-89f5-e78637ba51b7",
   "metadata": {},
   "source": [
    "Restart kernel and run all cells to visualize Figure 8."
   ]
  },
  {
   "cell_type": "code",
   "execution_count": 1,
   "id": "7fd1476c-c3db-42bd-a190-a4cca266c6bd",
   "metadata": {},
   "outputs": [
    {
     "data": {
      "application/vnd.jupyter.widget-view+json": {
       "model_id": "fad626f2510747f19f4eb8bb804706f9",
       "version_major": 2,
       "version_minor": 0
      },
      "text/plain": [
       "interactive(children=(IntSlider(value=32, description='θo', max=34, min=26), FloatSlider(value=0.7, descriptio…"
      ]
     },
     "metadata": {},
     "output_type": "display_data"
    },
    {
     "name": "stdout",
     "output_type": "stream",
     "text": [
      "CAV systems without reheating\n",
      "Control of indoor air temperature (θ5)\n"
     ]
    }
   ],
   "source": [
    "import cool_fig\n",
    "cool_fig.no_08()"
   ]
  }
 ],
 "metadata": {
  "kernelspec": {
   "display_name": "Python 3",
   "language": "python",
   "name": "python3"
  },
  "language_info": {
   "codemirror_mode": {
    "name": "ipython",
    "version": 3
   },
   "file_extension": ".py",
   "mimetype": "text/x-python",
   "name": "python",
   "nbconvert_exporter": "python",
   "pygments_lexer": "ipython3",
   "version": "3.8.8"
  }
 },
 "nbformat": 4,
 "nbformat_minor": 5
}
