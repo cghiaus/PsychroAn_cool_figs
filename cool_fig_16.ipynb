{
 "cells": [
  {
   "cell_type": "markdown",
   "id": "fb80259a-1bb9-401e-89f5-e78637ba51b7",
   "metadata": {},
   "source": [
    "Restart kernel and run all cells to visualize Figure 16."
   ]
  },
  {
   "cell_type": "code",
   "execution_count": 1,
   "id": "7fd1476c-c3db-42bd-a190-a4cca266c6bd",
   "metadata": {},
   "outputs": [
    {
     "data": {
      "application/vnd.jupyter.widget-view+json": {
       "model_id": "f9be5e14f89343d991e882006ffd27b8",
       "version_major": 2,
       "version_minor": 0
      },
      "text/plain": [
       "interactive(children=(Text(value='θ4', description='value'), IntSlider(value=14, description='sp', max=21, min…"
      ]
     },
     "metadata": {},
     "output_type": "display_data"
    },
    {
     "name": "stdout",
     "output_type": "stream",
     "text": [
      "VAV systems with reheating\n",
      "Control of indoor air temperature & humidity and of supply air temperature (θ4, θ5, φ5)\n"
     ]
    }
   ],
   "source": [
    "import cool_fig\n",
    "cool_fig.no_16()"
   ]
  }
 ],
 "metadata": {
  "kernelspec": {
   "display_name": "Python 3",
   "language": "python",
   "name": "python3"
  },
  "language_info": {
   "codemirror_mode": {
    "name": "ipython",
    "version": 3
   },
   "file_extension": ".py",
   "mimetype": "text/x-python",
   "name": "python",
   "nbconvert_exporter": "python",
   "pygments_lexer": "ipython3",
   "version": "3.8.8"
  }
 },
 "nbformat": 4,
 "nbformat_minor": 5
}
