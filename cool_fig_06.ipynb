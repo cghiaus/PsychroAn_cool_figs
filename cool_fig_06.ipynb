{
 "cells": [
  {
   "cell_type": "markdown",
   "id": "7039b858-6fb7-4818-b307-f9ed3b87a04a",
   "metadata": {},
   "source": [
    "Restart kernel and run all cells to visualize Figure 6."
   ]
  },
  {
   "cell_type": "code",
   "execution_count": 1,
   "id": "551a1423-5916-4b91-8322-3da88bcdfe28",
   "metadata": {
    "tags": []
   },
   "outputs": [
    {
     "data": {
      "application/vnd.jupyter.widget-view+json": {
       "model_id": "190af6d2695844578283b2a16038fe01",
       "version_major": 2,
       "version_minor": 0
      },
      "text/plain": [
       "interactive(children=(IntSlider(value=32, description='θo', max=34, min=26), FloatSlider(value=0.7, descriptio…"
      ]
     },
     "metadata": {},
     "output_type": "display_data"
    },
    {
     "name": "stdout",
     "output_type": "stream",
     "text": [
      "CAV systems with reheating\n",
      "Control of indoor air temperature & humidity (θ5, φ5)\n"
     ]
    }
   ],
   "source": [
    "import cool_fig\n",
    "cool_fig.no_06()"
   ]
  },
  {
   "cell_type": "code",
   "execution_count": null,
   "id": "20d3b049-5047-4d7d-9d38-f4882d7a39e6",
   "metadata": {},
   "outputs": [],
   "source": []
  }
 ],
 "metadata": {
  "kernelspec": {
   "display_name": "Python 3",
   "language": "python",
   "name": "python3"
  },
  "language_info": {
   "codemirror_mode": {
    "name": "ipython",
    "version": 3
   },
   "file_extension": ".py",
   "mimetype": "text/x-python",
   "name": "python",
   "nbconvert_exporter": "python",
   "pygments_lexer": "ipython3",
   "version": "3.8.8"
  }
 },
 "nbformat": 4,
 "nbformat_minor": 5
}
